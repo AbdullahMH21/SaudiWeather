{
 "cells": [
  {
   "cell_type": "code",
   "execution_count": null,
   "id": "31212bae",
   "metadata": {},
   "outputs": [],
   "source": [
    "import requests\n",
    "import pandas as pd\n",
    "import time\n",
    "\n",
    "\n",
    "cities = {\n",
    "    \"Riyadh\": (24.7136, 46.6753),\n",
    "    \"Jeddah\": (21.2854, 39.2376),\n",
    "    \"Mecca\": (21.3891, 39.8579),\n",
    "    \"Medina\": (24.5247, 39.5692),\n",
    "    \"Dammam\": (26.3927, 49.9777),\n",
    "    \"Khobar\": (26.2172, 50.1971),\n",
    "    \"Abha\": (18.2465, 42.5117),\n",
    "    \"Tabuk\": (28.3835, 36.5662),\n",
    "    \"Hail\": (27.5114, 41.7208),\n",
    "    \"Buraidah\": (26.3259, 43.974),\n",
    "    \"Neom\": (28.1311, 34.9208),\n",
    "    \"AlUla\": (26.6085, 37.9290)\n",
    "}\n",
    "\n",
    "\n",
    "start_date = \"2022-01-01\"\n",
    "end_date = \"2025-04-01\"\n",
    "\n",
    "\n",
    "all_data = []\n",
    "\n",
    "for city, (lat, lon) in cities.items():\n",
    "    print(f\"Fetching daily data for {city}...\")\n",
    "    \n",
    "    url = (\n",
    "        f\"https://archive-api.open-meteo.com/v1/era5?\"\n",
    "        f\"latitude={lat}&longitude={lon}\"\n",
    "        f\"&start_date={start_date}&end_date={end_date}\"\n",
    "        f\"&daily=temperature_2m_max,temperature_2m_min,relative_humidity_2m_max,\"\n",
    "        f\"relative_humidity_2m_min,wind_speed_10m_max,dew_point_2m_max,dew_point_2m_min\"\n",
    "        f\"\"\n",
    "    )\n",
    "    \n",
    "    response = requests.get(url)\n",
    "    data = response.json()\n",
    "    \n",
    "    daily_data = pd.DataFrame(data[\"daily\"])\n",
    "    daily_data[\"city\"] = city\n",
    "    daily_data[\"latitude\"] = lat\n",
    "    daily_data[\"longitude\"] = lon\n",
    "    \n",
    "    all_data.append(daily_data)\n",
    "    time.sleep(1)\n",
    "\n",
    "\n",
    "daily_df = pd.concat(all_data, ignore_index=True)\n",
    "daily_df\n"
   ]
  }
 ],
 "metadata": {
  "kernelspec": {
   "display_name": ".venv",
   "language": "python",
   "name": "python3"
  },
  "language_info": {
   "name": "python",
   "version": "3.13.3"
  }
 },
 "nbformat": 4,
 "nbformat_minor": 5
}
